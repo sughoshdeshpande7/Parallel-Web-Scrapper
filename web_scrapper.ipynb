{
  "nbformat": 4,
  "nbformat_minor": 0,
  "metadata": {
    "colab": {
      "provenance": [],
      "authorship_tag": "ABX9TyOsRhn3gJvm3yvMMFWHQOae",
      "include_colab_link": true
    },
    "kernelspec": {
      "name": "python3",
      "display_name": "Python 3"
    },
    "language_info": {
      "name": "python"
    }
  },
  "cells": [
    {
      "cell_type": "markdown",
      "metadata": {
        "id": "view-in-github",
        "colab_type": "text"
      },
      "source": [
        "<a href=\"https://colab.research.google.com/github/sughoshdeshpande7/Parallel-Web-Scrapper/blob/main/web_scrapper.ipynb\" target=\"_parent\"><img src=\"https://colab.research.google.com/assets/colab-badge.svg\" alt=\"Open In Colab\"/></a>"
      ]
    },
    {
      "cell_type": "code",
      "execution_count": null,
      "metadata": {
        "colab": {
          "base_uri": "https://localhost:8080/"
        },
        "id": "oxE7COzgC6tS",
        "outputId": "a5f3395d-34e5-4992-fd84-5bf87d7df6b8"
      },
      "outputs": [
        {
          "output_type": "stream",
          "name": "stdout",
          "text": [
            "\n",
            "\tTotal Time Taken: 2.6226043701171875e-06 seconds\n"
          ]
        }
      ],
      "source": [
        "import requests\n",
        "from bs4 import BeautifulSoup\n",
        "from urllib.parse import urljoin\n",
        "import time\n",
        "\n",
        "def get_links():\n",
        "    curr_list = 'https://en.wikipedia.org/wiki/List_of_circulating_currencies'\n",
        "    response = requests.get(curr_list)\n",
        "    soup = BeautifulSoup(response.text, \"lxml\")  # Using (the complete html string, lxml parser) for data\n",
        "    selector = 'p+table td:nth-child(2) > a, p+table td:nth-child(1) > a:nth-child(1)'    # method to take CSS Selector\n",
        "    all_link_el=soup.select(selector)  \n",
        "    links=[]\n",
        "    for link_el in all_link_el:\n",
        "        link = link_el.get(\"href\")\n",
        "        link = urljoin(curr_list, link)  # convert relative link to absolute link\n",
        "        links.append(link)  # Appends all the links to the list\n",
        "    return links\n",
        "\n",
        "def fetch(link):\n",
        "    response = requests.get(link)  # network delay (Takes one link at a time) -  Initiates complete connection to web server everytime on function call\n",
        "    filename= \"./output/\"+link.split(\"/\")[-1]+\".html\"     # disk i/o - Takes long disk writing time\n",
        "    with open(filename,'wb') as f:\n",
        "        f.write(response.content)      # Dumps all content in bytes to a local folder\n",
        "    \n",
        "    print('...',end='')\n",
        "\n",
        "if __name__ == '__main__':\n",
        "    links = get_links()   \n",
        "    start_time = time.time()\n",
        "  \n",
        "    for link in links:\n",
        "      fetch(link)   # Takes a long time to fetch 260+ links. Hence, has to be optimized\n",
        "    \n",
        "    print('\\n\\tTotal Time Taken:',time.time()-start_time, 'seconds')\n",
        "    "
      ]
    },
    {
      "cell_type": "markdown",
      "source": [
        "###**Use Sessions If you are processing a lot of pages from the same website**"
      ],
      "metadata": {
        "id": "SkRKne-8PNME"
      }
    },
    {
      "cell_type": "code",
      "source": [
        "import requests\n",
        "from bs4 import BeautifulSoup\n",
        "from urllib.parse import urljoin\n",
        "import time\n",
        "\n",
        "def get_links():\n",
        "    curr_list = 'https://en.wikipedia.org/wiki/List_of_circulating_currencies'\n",
        "    response = requests.get(curr_list)\n",
        "    soup = BeautifulSoup(response.text, \"lxml\")\n",
        "    selector = 'p+table td:nth-child(2) > a, p+table td:nth-child(1) > a:nth-child(1)'\n",
        "    all_link_el=soup.select(selector)\n",
        "    links=[]\n",
        "    for link_el in all_link_el:\n",
        "        link = link_el.get(\"href\")\n",
        "        link = urljoin(curr_list, link)\n",
        "        links.append(link)\n",
        "    return links\n",
        "\n",
        "def fetch(link,s):\n",
        "    response = s.get(link)   # reusing sessions instead of \n",
        "    filename= \"./output/\"+link.split(\"/\")[-1]+\".html\"     #disk i/o\n",
        "    with open(filename,'wb') as f:\n",
        "        f.write(response.content)\n",
        "    \n",
        "    print('...',end='',flush=True)\n",
        "\n",
        "if __name__ == '__main__':\n",
        "    links = get_links()\n",
        "    start_time = time.time()\n",
        "  \n",
        "    s= requests.Session()\n",
        "    \n",
        "    print('\\n\\tTotal Time Taken:',time.time()-start_time, 'seconds')\n",
        "    "
      ],
      "metadata": {
        "colab": {
          "base_uri": "https://localhost:8080/"
        },
        "id": "xb0tZ0raEyFp",
        "outputId": "b4f778c4-932b-4dab-ed05-3a2cfdc9b4db"
      },
      "execution_count": null,
      "outputs": [
        {
          "output_type": "stream",
          "name": "stdout",
          "text": [
            "\n",
            "\tTotal Time Taken: 0.00014591217041015625 seconds\n"
          ]
        }
      ]
    },
    {
      "cell_type": "code",
      "source": [
        "from multiprocessing import cpu_count"
      ],
      "metadata": {
        "id": "UExC1y5bQpoh"
      },
      "execution_count": null,
      "outputs": []
    },
    {
      "cell_type": "code",
      "source": [
        "print('You Have',cpu_count(),'core CPUs!')  # Therefore we can create 2 different processes. "
      ],
      "metadata": {
        "colab": {
          "base_uri": "https://localhost:8080/"
        },
        "id": "GZ1hdLnEQxpE",
        "outputId": "1d93a2fd-115c-4074-9dce-e7f7fbfb843e"
      },
      "execution_count": null,
      "outputs": [
        {
          "output_type": "stream",
          "name": "stdout",
          "text": [
            "You Have 2 core CPUs!\n"
          ]
        }
      ]
    },
    {
      "cell_type": "code",
      "source": [
        "import requests\n",
        "from bs4 import BeautifulSoup\n",
        "from urllib.parse import urljoin\n",
        "import time\n",
        "from multiprocessing import cpu_count, Pool\n",
        "\n",
        "def get_links():\n",
        "    curr_list = 'https://en.wikipedia.org/wiki/List_of_circulating_currencies'\n",
        "    response = requests.get(curr_list)\n",
        "    soup = BeautifulSoup(response.text, \"lxml\")\n",
        "    selector = 'p+table td:nth-child(2) > a, p+table td:nth-child(1) > a:nth-child(1)'\n",
        "    all_link_el=soup.select(selector)\n",
        "    links=[]\n",
        "    for link_el in all_link_el:\n",
        "        link = link_el.get(\"href\")\n",
        "        link = urljoin(curr_list, link)\n",
        "        links.append(link)\n",
        "    return links\n",
        "\n",
        "def fetch(link,s):\n",
        "    response = s.get(link)     #Does Not initiate new connection to web server everytime on func.call\n",
        "                               #RE use same session\n",
        "    filename= \"./output/\"+link.split(\"/\")[-1]+\".html\"     #disk i/o\n",
        "    with open(filename,'wb') as f:\n",
        "        f.write(response.content)\n",
        "    \n",
        "    print('...',end='',flush=True)\n",
        "\n",
        "if __name__ == '__main__':\n",
        "    links = get_links()\n",
        "    start_time = time.time()\n",
        "  \n",
        "    with Pool(cpu_count()) as p:  \n",
        "      p.map(fetch,links)\n",
        "    \n",
        "    print('\\n\\tTotal Time Taken:',time.time()-start_time, 'seconds')\n",
        "    "
      ],
      "metadata": {
        "colab": {
          "base_uri": "https://localhost:8080/"
        },
        "outputId": "fc99576c-d193-4bcb-e946-86dcf159729b",
        "id": "ZMS-OtF-Rfdi"
      },
      "execution_count": null,
      "outputs": [
        {
          "output_type": "stream",
          "name": "stdout",
          "text": [
            "\n",
            "\tTotal Time Taken: 0.039621829986572266 seconds\n"
          ]
        }
      ]
    },
    {
      "cell_type": "markdown",
      "source": [
        "To Further Reduce time we create Multiple Threads where processes \n",
        "switch from \n",
        "one thread to another with no limit on the number of threads that can be used"
      ],
      "metadata": {
        "id": "dDmjrqjOsj0_"
      }
    },
    {
      "cell_type": "code",
      "source": [
        "import requests\n",
        "from bs4 import BeautifulSoup\n",
        "from urllib.parse import urljoin\n",
        "import time\n",
        "from concurrent.futures import ThreadPoolExecutor\n",
        "\n",
        "def get_links():\n",
        "    curr_list = 'https://en.wikipedia.org/wiki/List_of_circulating_currencies'\n",
        "    response = requests.get(curr_list)\n",
        "    soup = BeautifulSoup(response.text, \"lxml\")\n",
        "    selector = 'p+table td:nth-child(2) > a, p+table td:nth-child(1) > a:nth-child(1)'\n",
        "    all_link_el=soup.select(selector)\n",
        "    links=[]\n",
        "    for link_el in all_link_el:\n",
        "        link = link_el.get(\"href\")\n",
        "        link = urljoin(curr_list, link)\n",
        "        links.append(link)\n",
        "    return links\n",
        "\n",
        "def fetch(link,s):\n",
        "    response = s.get(link)     #RE use same session\n",
        "    filename= \"./output/\"+link.split(\"/\")[-1]+\".html\"     #disk i/o\n",
        "    with open(filename,'wb') as f:\n",
        "        f.write(response.content)\n",
        "    \n",
        "    print('...',end='',flush=True)\n",
        "\n",
        "if __name__ == '__main__':\n",
        "    links = get_links()\n",
        "    start_time = time.time()\n",
        "  \n",
        "    with ThreadPoolExecutor(max_workers=200) as p: # Not bound by number of core CPUs\n",
        "      p.map(fetch,links)\n",
        "    \n",
        "    print('\\n\\tTotal Time Taken:',time.time()-start_time, 'seconds')"
      ],
      "metadata": {
        "colab": {
          "base_uri": "https://localhost:8080/"
        },
        "id": "Fq3Jb36Gj7R5",
        "outputId": "ea712542-ba36-4884-97b8-2b1c5fa7fbbc"
      },
      "execution_count": null,
      "outputs": [
        {
          "output_type": "stream",
          "name": "stdout",
          "text": [
            "\n",
            "\tTotal Time Taken: 9.131431579589844e-05 seconds\n"
          ]
        }
      ]
    }
  ]
}